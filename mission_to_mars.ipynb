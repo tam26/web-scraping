{
 "cells": [
  {
   "cell_type": "code",
   "execution_count": 1,
   "metadata": {},
   "outputs": [],
   "source": [
    "import requests\n",
    "import pandas as pd\n",
    "\n",
    "from splinter import Browser\n",
    "from bs4 import BeautifulSoup as bs"
   ]
  },
  {
   "cell_type": "code",
   "execution_count": 2,
   "metadata": {},
   "outputs": [],
   "source": [
    "executable_path = {'executable_path': '/Users/tamaranajjar/Documents/BOOTCAMP/NUCHI201905DATA2/12-Web-Scraping-and-Document-Databases/Homework/chromedriver'}\n",
    "browser = Browser('chrome', **executable_path, headless=False)"
   ]
  },
  {
   "cell_type": "code",
   "execution_count": 3,
   "metadata": {},
   "outputs": [
    {
     "name": "stdout",
     "output_type": "stream",
     "text": [
      "Robotic Toolkit Added to NASA's Mars 2020 Rover\n",
      "--------------\n",
      "The bit carousel, which lies at the heart of the rover's Sample Caching System, is now aboard NASA's newest rover. \n"
     ]
    }
   ],
   "source": [
    "# News Title and Paragraph\n",
    "\n",
    "news_url = 'https://mars.nasa.gov/news/'\n",
    "\n",
    "browser.visit(news_url)\n",
    "news_soup = bs(browser.html, 'html.parser')\n",
    "\n",
    "news_list = news_soup.find('ul', class_='item_list')\n",
    "item_1 = news_list.find('li', class_='slide')\n",
    "\n",
    "news_title = item_1.find('div', class_='content_title').text\n",
    "news_p = item_1.find('div', class_='article_teaser_body').text\n",
    "\n",
    "print(news_title)\n",
    "print(\"--------------\")\n",
    "print(news_p)"
   ]
  },
  {
   "cell_type": "code",
   "execution_count": 4,
   "metadata": {},
   "outputs": [
    {
     "name": "stdout",
     "output_type": "stream",
     "text": [
      "         Specifications                   Measurements\n",
      "0  Equatorial Diameter:                       6,792 km\n",
      "1       Polar Diameter:                       6,752 km\n",
      "2                 Mass:  6.39 × 10^23 kg (0.11 Earths)\n",
      "3                Moons:            2 (Phobos & Deimos)\n",
      "4       Orbit Distance:       227,943,824 km (1.38 AU)\n",
      "5         Orbit Period:           687 days (1.9 years)\n",
      "6  Surface Temperature:                   -87 to -5 °C\n",
      "7         First Record:              2nd millennium BC\n",
      "8          Recorded By:           Egyptian astronomers\n"
     ]
    }
   ],
   "source": [
    "# Mars Facts Table\n",
    "\n",
    "facts_url = 'https://space-facts.com/mars/'\n",
    "\n",
    "mars_table = pd.read_html(facts_url)\n",
    "mars_table_edit = mars_table[1]\n",
    "mars_table_mapping = {0: \"Specifications\", 1:\"Measurements\"}\n",
    "mars_facts = mars_table_edit.rename(columns = mars_table_mapping)\n",
    "\n",
    "# Save table to HTML\n",
    "mars_facts.to_html('mars_facts.html', index=False)\n",
    "\n",
    "print(mars_facts)"
   ]
  },
  {
   "cell_type": "code",
   "execution_count": 6,
   "metadata": {},
   "outputs": [
    {
     "name": "stdout",
     "output_type": "stream",
     "text": [
      "https://www.jpl.nasa.gov/spaceimages/images/mediumsize/PIA19673_ip.jpg\n"
     ]
    }
   ],
   "source": [
    "# Mars Image\n",
    "\n",
    "#THIS ONE YOU HAVE TO RUN TWICE. FIRST TIME ALWAYS GETS AN ERROR!!!!\n",
    "\n",
    "base_url = 'https://www.jpl.nasa.gov'\n",
    "image_url = 'https://www.jpl.nasa.gov/spaceimages/?search=&category=Mars'\n",
    "\n",
    "browser.visit(image_url)\n",
    "browser.click_link_by_partial_text('FULL IMAGE')\n",
    "\n",
    "image_html = browser.html\n",
    "image = bs(image_html, 'html.parser').find('img', class_='fancybox-image')['src']\n",
    "\n",
    "featured_image = base_url + image\n",
    "print(featured_image)"
   ]
  },
  {
   "cell_type": "code",
   "execution_count": 7,
   "metadata": {},
   "outputs": [
    {
     "name": "stdout",
     "output_type": "stream",
     "text": [
      "I’d say a plutonium-238 powered RTG qualifies the Curiosity and Mars2020 rovers as alternative fuel vehicles. You can explore these and other missions, rockets and more with JPL’s Spacecraft AR for IOS and Androhttps://www.jpl.nasa.gov/apps/pic.twitter.com/f4SheTlQyY\n"
     ]
    }
   ],
   "source": [
    "# Mars Weather\n",
    "\n",
    "weather_url = 'https://twitter.com/marswxreport?lang=en'\n",
    "\n",
    "browser.visit(weather_url)\n",
    "weather_soup = bs(browser.html, 'html.parser')\n",
    "\n",
    "weather_tweet = weather_soup.find('p', class_='TweetTextSize').text\n",
    "print(weather_tweet)"
   ]
  },
  {
   "cell_type": "code",
   "execution_count": 8,
   "metadata": {},
   "outputs": [
    {
     "data": {
      "text/plain": [
       "[{'title': 'Cerberus Hemisphere Enhanced',\n",
       "  'image_url': 'http://astropedia.astrogeology.usgs.gov/download/Mars/Viking/cerberus_enhanced.tif/full.jpg'},\n",
       " {'title': 'Schiaparelli Hemisphere Enhanced',\n",
       "  'image_url': 'http://astropedia.astrogeology.usgs.gov/download/Mars/Viking/schiaparelli_enhanced.tif/full.jpg'},\n",
       " {'title': 'Syrtis Major Hemisphere Enhanced',\n",
       "  'image_url': 'http://astropedia.astrogeology.usgs.gov/download/Mars/Viking/syrtis_major_enhanced.tif/full.jpg'},\n",
       " {'title': 'Valles Marineris Hemisphere Enhanced',\n",
       "  'image_url': 'http://astropedia.astrogeology.usgs.gov/download/Mars/Viking/valles_marineris_enhanced.tif/full.jpg'}]"
      ]
     },
     "execution_count": 8,
     "metadata": {},
     "output_type": "execute_result"
    }
   ],
   "source": [
    "#Mars Hemisphere\n",
    "\n",
    "h_url = \"https://astrogeology.usgs.gov/search/results?q=hemisphere+enhanced&k1=target&v1=Mars\"\n",
    "\n",
    "browser.visit(h_url)\n",
    "# h_soup = bs(browser.html, 'html.parser')\n",
    "\n",
    "h_pictures = []\n",
    "\n",
    "h_list = browser.find_by_css(\"a.product-item h3\")\n",
    "\n",
    "for h in range(len(h_list)):\n",
    "    h_dict = {}\n",
    "    browser.find_by_css(\"a.product-item h3\")[h].click()\n",
    "    h_click = browser.find_link_by_text('Sample').first\n",
    "    h_dict[\"title\"] = browser.find_by_css(\"h2.title\").text\n",
    "    h_dict[\"image_url\"] = h_click[\"href\"]\n",
    "    h_pictures.append(h_dict)\n",
    "    browser.back()\n",
    "    \n",
    "h_pictures\n"
   ]
  }
 ],
 "metadata": {
  "kernelspec": {
   "display_name": "Python 3",
   "language": "python",
   "name": "python3"
  },
  "language_info": {
   "codemirror_mode": {
    "name": "ipython",
    "version": 3
   },
   "file_extension": ".py",
   "mimetype": "text/x-python",
   "name": "python",
   "nbconvert_exporter": "python",
   "pygments_lexer": "ipython3",
   "version": "3.7.3"
  }
 },
 "nbformat": 4,
 "nbformat_minor": 2
}
